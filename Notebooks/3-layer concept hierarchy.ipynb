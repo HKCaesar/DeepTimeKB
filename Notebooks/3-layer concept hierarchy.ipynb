{
 "cells": [
  {
   "cell_type": "code",
   "execution_count": 1,
   "metadata": {},
   "outputs": [
    {
     "name": "stderr",
     "output_type": "stream",
     "text": [
      "Installing package into ‘/nethome/max/.R-libs’\n",
      "(as ‘lib’ is unspecified)\n",
      "\n",
      "Loading required package: XML\n",
      "\n",
      "Loading required package: RCurl\n",
      "\n"
     ]
    }
   ],
   "source": [
    "# Input the label of a time concept - e.g. Middle Jurassic\n",
    "# Return the broader and narrower concepts inside a vocabulary scheme, e.g. isc2012-08  \n",
    "\n",
    "install.packages(\"SPARQL\")\n",
    "library(SPARQL)"
   ]
  },
  {
   "cell_type": "code",
   "execution_count": 2,
   "metadata": {},
   "outputs": [],
   "source": [
    "# set up end point and prefix\n",
    "endpoint = \"http://virtuoso.nkn.uidaho.edu:8890/sparql/\"\n",
    "  \n",
    "# attach SPARQL querry prefix. Note: the graph for our study should be updated\n",
    "sparql_prefix = \" \n",
    "prefix dc: <http://purl.org/dc/elements/1.1/> \n",
    "prefix dcterms: <http://purl.org/dc/terms/> \n",
    "prefix foaf: <http://xmlns.com/foaf/0.1/> \n",
    "prefix geo: <http://www.opengis.net/ont/geosparql#> \n",
    "prefix gts: <http://resource.geosciml.org/ontology/timescale/gts#> \n",
    "prefix isc: <http://resource.geosciml.org/classifier/ics/ischart/> \n",
    "prefix owl: <http://www.w3.org/2002/07/owl#> \n",
    "prefix rank: <http://resource.geosciml.org/ontology/timescale/rank/> \n",
    "prefix rdf: <http://www.w3.org/1999/02/22-rdf-syntax-ns#> \n",
    "prefix rdfs: <http://www.w3.org/2000/01/rdf-schema#> \n",
    "prefix samfl: <http://def.seegrid.csiro.au/ontology/om/sam-lite#> \n",
    "prefix sf: <http://www.opengis.net/ont/sf#> \n",
    "prefix skos: <http://www.w3.org/2004/02/skos/core#> \n",
    "prefix sosa: <http://www.w3.org/ns/sosa/> \n",
    "prefix thors: <http://resource.geosciml.org/ontology/timescale/thors#> \n",
    "prefix time: <http://www.w3.org/2006/time#> \n",
    "prefix ts: <http://resource.geosciml.org/vocabulary/timescale/> \n",
    "prefix vann: <http://purl.org/vocab/vann/> \n",
    "prefix void: <http://rdfs.org/ns/void#> \n",
    "prefix xkos: <http://rdf-vocabulary.ddialliance.org/xkos#> \n",
    "prefix xsd: <http://www.w3.org/2001/XMLSchema#> \n",
    "prefix tsna: <http://deeptimekb.org/tsna#> \n",
    "prefix tssc: <http://deeptimekb.org/tssc#> \n",
    "prefix tsnc: <http://deeptimekb.org/tsnc#> \n",
    "prefix tsnz: <http://deeptimekb.org/tsnz#> \n",
    "prefix tswe: <http://deeptimekb.org/tswe#> \n",
    "prefix tsbr: <http://deeptimekb.org/tsbr#> \n",
    "prefix tsba: <http://deeptimekb.org/tsba#> \n",
    "prefix tsjp: <http://deeptimekb.org/tsjp#> \n",
    "prefix tsau: <http://deeptimekb.org/tsau#> \n",
    "        \""
   ]
  },
  {
   "cell_type": "code",
   "execution_count": 9,
   "metadata": {},
   "outputs": [
    {
     "data": {
      "text/html": [
       "<table>\n",
       "<caption>A data.frame: 4 × 3</caption>\n",
       "<thead>\n",
       "\t<tr><th scope=col>broaderC</th><th scope=col>inputC</th><th scope=col>narrowerC</th></tr>\n",
       "\t<tr><th scope=col>&lt;chr&gt;</th><th scope=col>&lt;chr&gt;</th><th scope=col>&lt;chr&gt;</th></tr>\n",
       "</thead>\n",
       "<tbody>\n",
       "\t<tr><td>&lt;http://resource.geosciml.org/classifier/ics/ischart/Jurassic&gt;</td><td>&lt;http://resource.geosciml.org/classifier/ics/ischart/MiddleJurassic&gt;</td><td>&lt;http://resource.geosciml.org/classifier/ics/ischart/Callovian&gt;</td></tr>\n",
       "\t<tr><td>&lt;http://resource.geosciml.org/classifier/ics/ischart/Jurassic&gt;</td><td>&lt;http://resource.geosciml.org/classifier/ics/ischart/MiddleJurassic&gt;</td><td>&lt;http://resource.geosciml.org/classifier/ics/ischart/Bathonian&gt;</td></tr>\n",
       "\t<tr><td>&lt;http://resource.geosciml.org/classifier/ics/ischart/Jurassic&gt;</td><td>&lt;http://resource.geosciml.org/classifier/ics/ischart/MiddleJurassic&gt;</td><td>&lt;http://resource.geosciml.org/classifier/ics/ischart/Bajocian&gt; </td></tr>\n",
       "\t<tr><td>&lt;http://resource.geosciml.org/classifier/ics/ischart/Jurassic&gt;</td><td>&lt;http://resource.geosciml.org/classifier/ics/ischart/MiddleJurassic&gt;</td><td>&lt;http://resource.geosciml.org/classifier/ics/ischart/Aalenian&gt; </td></tr>\n",
       "</tbody>\n",
       "</table>\n"
      ],
      "text/latex": [
       "A data.frame: 4 × 3\n",
       "\\begin{tabular}{lll}\n",
       " broaderC & inputC & narrowerC\\\\\n",
       " <chr> & <chr> & <chr>\\\\\n",
       "\\hline\n",
       "\t <http://resource.geosciml.org/classifier/ics/ischart/Jurassic> & <http://resource.geosciml.org/classifier/ics/ischart/MiddleJurassic> & <http://resource.geosciml.org/classifier/ics/ischart/Callovian>\\\\\n",
       "\t <http://resource.geosciml.org/classifier/ics/ischart/Jurassic> & <http://resource.geosciml.org/classifier/ics/ischart/MiddleJurassic> & <http://resource.geosciml.org/classifier/ics/ischart/Bathonian>\\\\\n",
       "\t <http://resource.geosciml.org/classifier/ics/ischart/Jurassic> & <http://resource.geosciml.org/classifier/ics/ischart/MiddleJurassic> & <http://resource.geosciml.org/classifier/ics/ischart/Bajocian> \\\\\n",
       "\t <http://resource.geosciml.org/classifier/ics/ischart/Jurassic> & <http://resource.geosciml.org/classifier/ics/ischart/MiddleJurassic> & <http://resource.geosciml.org/classifier/ics/ischart/Aalenian> \\\\\n",
       "\\end{tabular}\n"
      ],
      "text/markdown": [
       "\n",
       "A data.frame: 4 × 3\n",
       "\n",
       "| broaderC &lt;chr&gt; | inputC &lt;chr&gt; | narrowerC &lt;chr&gt; |\n",
       "|---|---|---|\n",
       "| &lt;http://resource.geosciml.org/classifier/ics/ischart/Jurassic&gt; | &lt;http://resource.geosciml.org/classifier/ics/ischart/MiddleJurassic&gt; | &lt;http://resource.geosciml.org/classifier/ics/ischart/Callovian&gt; |\n",
       "| &lt;http://resource.geosciml.org/classifier/ics/ischart/Jurassic&gt; | &lt;http://resource.geosciml.org/classifier/ics/ischart/MiddleJurassic&gt; | &lt;http://resource.geosciml.org/classifier/ics/ischart/Bathonian&gt; |\n",
       "| &lt;http://resource.geosciml.org/classifier/ics/ischart/Jurassic&gt; | &lt;http://resource.geosciml.org/classifier/ics/ischart/MiddleJurassic&gt; | &lt;http://resource.geosciml.org/classifier/ics/ischart/Bajocian&gt;  |\n",
       "| &lt;http://resource.geosciml.org/classifier/ics/ischart/Jurassic&gt; | &lt;http://resource.geosciml.org/classifier/ics/ischart/MiddleJurassic&gt; | &lt;http://resource.geosciml.org/classifier/ics/ischart/Aalenian&gt;  |\n",
       "\n"
      ],
      "text/plain": [
       "  broaderC                                                      \n",
       "1 <http://resource.geosciml.org/classifier/ics/ischart/Jurassic>\n",
       "2 <http://resource.geosciml.org/classifier/ics/ischart/Jurassic>\n",
       "3 <http://resource.geosciml.org/classifier/ics/ischart/Jurassic>\n",
       "4 <http://resource.geosciml.org/classifier/ics/ischart/Jurassic>\n",
       "  inputC                                                              \n",
       "1 <http://resource.geosciml.org/classifier/ics/ischart/MiddleJurassic>\n",
       "2 <http://resource.geosciml.org/classifier/ics/ischart/MiddleJurassic>\n",
       "3 <http://resource.geosciml.org/classifier/ics/ischart/MiddleJurassic>\n",
       "4 <http://resource.geosciml.org/classifier/ics/ischart/MiddleJurassic>\n",
       "  narrowerC                                                      \n",
       "1 <http://resource.geosciml.org/classifier/ics/ischart/Callovian>\n",
       "2 <http://resource.geosciml.org/classifier/ics/ischart/Bathonian>\n",
       "3 <http://resource.geosciml.org/classifier/ics/ischart/Bajocian> \n",
       "4 <http://resource.geosciml.org/classifier/ics/ischart/Aalenian> "
      ]
     },
     "metadata": {},
     "output_type": "display_data"
    }
   ],
   "source": [
    "# the query code\n",
    " \n",
    "q = paste0(\n",
    "              sparql_prefix, \n",
    "                  '\n",
    "SELECT DISTINCT  ?broaderC ?inputC ?narrowerC\n",
    "WHERE\n",
    "{\n",
    "                \n",
    "   GRAPH <http://deeptimekb.org/iscallnew>\n",
    "   { \n",
    "    ?inputC  a gts:GeochronologicEra ;\n",
    "                rdfs:label ?clabel . \n",
    "    FILTER strstarts(?clabel, \"Middle Jurassic\") \n",
    " \n",
    "    ?inputC dc:description  \n",
    "      [   \n",
    "      skos:broader ?broaderC ;\n",
    "      skos:narrower ?narrowerC ;\n",
    "      skos:inScheme ts:isc2012-08\n",
    "      ] .\n",
    "\n",
    "    ?narrowerC dc:description  \n",
    "      [   \n",
    "         time:hasBeginning ?basePosition ; \n",
    "         skos:inScheme ts:isc2012-08\n",
    "      ] .\n",
    "\n",
    "     ?basePosition time:inTemporalPosition ?baseTime .\n",
    "\n",
    "     ?baseTime dc:description  \n",
    "      [   \n",
    "         time:numericPosition ?baseNum ; \n",
    "         skos:inScheme ts:isc2012-08\n",
    "      ] .\n",
    "    }\n",
    "   \n",
    "}\n",
    "ORDER BY ?baseNum\n",
    "                  '\n",
    "              )\n",
    "\n",
    "# run the query  \n",
    "res = SPARQL(endpoint, q)$results\n",
    "  \n",
    "return(res)"
   ]
  },
  {
   "cell_type": "code",
   "execution_count": null,
   "metadata": {},
   "outputs": [],
   "source": []
  },
  {
   "cell_type": "code",
   "execution_count": null,
   "metadata": {},
   "outputs": [],
   "source": []
  }
 ],
 "metadata": {
  "kernelspec": {
   "display_name": "R",
   "language": "R",
   "name": "ir"
  },
  "language_info": {
   "codemirror_mode": "r",
   "file_extension": ".r",
   "mimetype": "text/x-r-source",
   "name": "R",
   "pygments_lexer": "r",
   "version": "3.6.0"
  }
 },
 "nbformat": 4,
 "nbformat_minor": 4
}
