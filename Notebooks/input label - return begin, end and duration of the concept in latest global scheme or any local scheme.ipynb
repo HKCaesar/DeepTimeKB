{
 "cells": [
  {
   "cell_type": "code",
   "execution_count": 1,
   "metadata": {},
   "outputs": [
    {
     "name": "stderr",
     "output_type": "stream",
     "text": [
      "Installing package into ‘/nethome/max/.R-libs’\n",
      "(as ‘lib’ is unspecified)\n",
      "\n",
      "Loading required package: XML\n",
      "\n",
      "Loading required package: RCurl\n",
      "\n"
     ]
    }
   ],
   "source": [
    "# This notebook shows how to get the beginning and end boundaries of a time concept, \n",
    "# and the duration betweent the two boundaries. \n",
    "\n",
    "# We use Jurassic as an example\n",
    "\n",
    "# We will fist find the scheme ID for the latest version of the global geological time scale\n",
    "\n",
    "install.packages(\"SPARQL\")\n",
    "library(SPARQL)"
   ]
  },
  {
   "cell_type": "code",
   "execution_count": 6,
   "metadata": {},
   "outputs": [],
   "source": [
    "# set up end point and prefix\n",
    "endpoint = \"http://virtuoso.nkn.uidaho.edu:8890/sparql/\"\n",
    "  \n",
    "# attach SPARQL querry prefix. Note: the graph for our study should be updated\n",
    "sparql_prefix = \" \n",
    "                prefix dc: <http://purl.org/dc/elements/1.1/>\n",
    "                prefix gts: <http://resource.geosciml.org/ontology/timescale/gts#>\n",
    "                prefix skos: <http://www.w3.org/2004/02/skos/core#>\n",
    "                prefix time: <http://www.w3.org/2006/time#>\n",
    "                prefix ts: <http://resource.geosciml.org/vocabulary/timescale/> \n",
    "                prefix isc: <http://resource.geosciml.org/classifier/ics/ischart/> \n",
    "        \""
   ]
  },
  {
   "cell_type": "code",
   "execution_count": 8,
   "metadata": {},
   "outputs": [],
   "source": [
    "# the query code for find the latest global vocabulary scheme \n",
    " \n",
    "q = paste0(\n",
    "              sparql_prefix, \n",
    "                  '\n",
    "                   SELECT DISTINCT ?schURI ?lbl\n",
    "                   WHERE\n",
    "                   {\n",
    "                     GRAPH <http://deeptimekb.org/iscallnew> \n",
    "                     {\n",
    "                        ?schURI a skos:ConceptScheme ;\n",
    "                                rdfs:label ?lbl .\n",
    "                        FILTER regex(?lbl, \"International\", \"i\")\n",
    "                     }      \n",
    "                   }\n",
    "                   ORDER BY DESC (?schURI)\n",
    "                   LIMIT 1\n",
    "                  '\n",
    "              )\n",
    "\n",
    "# run the query  \n",
    "resScheme = SPARQL(endpoint, q)$results\n",
    "  "
   ]
  },
  {
   "cell_type": "code",
   "execution_count": 9,
   "metadata": {},
   "outputs": [],
   "source": [
    "# the query code\n",
    " \n",
    "q = paste0(\n",
    "              sparql_prefix, \n",
    "                  '\n",
    "                   SELECT   DISTINCT ?begTimeValue ?endTimeValue\n",
    "                   WHERE\n",
    "                   {\n",
    "                     GRAPH <http://deeptimekb.org/iscallnew> \n",
    "                     {\n",
    "                          { #for the pattern of local vocabulary \n",
    "                                 ?tconcept  a gts:GeochronologicEra ;  \n",
    "                                                 rdfs:label ?label .\n",
    "                                 FILTER (lang(?label) = \"en\")\n",
    "                                 FILTER strstarts(?label, \"', 'Jurassic', '\").\n",
    "                                 ?tconcept time:hasBeginning ?beg ;\n",
    "                                 time:hasEnd ?end .\n",
    "                                 ?beg time:inTemporalPosition ?begTime .\n",
    "                                 ?end time:inTemporalPosition ?endTime .\n",
    "                                 ?begTime time:numericPosition ?begTimeValue .\n",
    "                                 ?endTime time:numericPosition ?endTimeValue .\n",
    "                          }\n",
    "                       UNION\n",
    "                          { #for the pattern of local vocabulary \n",
    "                             ?tconcept a gts:GeochronologicEra ;  \n",
    "                                       rdfs:label ?label .\n",
    "                             FILTER (lang(?label) = \"en\")\n",
    "                             FILTER strstarts(?label, \"', 'Jurassic', '\").\n",
    "                             ?tconcept dc:description\n",
    "                             [\n",
    "                                time:hasBeginning ?beg ;\n",
    "                                time:hasEnd ?end ;\n",
    "                                skos:inScheme  ', resScheme$schURI[1], '\n",
    "                             ].\n",
    "                             \n",
    "                          ?beg time:inTemporalPosition ?begTime .\n",
    "                          ?end time:inTemporalPosition ?endTime .\n",
    "                          \n",
    "                          ?begTime dc:description\n",
    "                              [\n",
    "                                 time:numericPosition ?begTimeValue ;\n",
    "                                 skos:inScheme  ', resScheme$schURI[1], '\n",
    "                               ].\n",
    "                          ?endTime dc:description\n",
    "                              [\n",
    "                                 time:numericPosition ?endTimeValue ;\n",
    "                                 skos:inScheme  ', resScheme$schURI[1], '\n",
    "                              ] .\n",
    "                             }\n",
    "                     }\n",
    "                   }\n",
    "                  '\n",
    "              )"
   ]
  },
  {
   "cell_type": "code",
   "execution_count": 10,
   "metadata": {},
   "outputs": [
    {
     "data": {
      "text/html": [
       "<table>\n",
       "<caption>A data.frame: 1 × 3</caption>\n",
       "<thead>\n",
       "\t<tr><th scope=col>begTimeValue</th><th scope=col>endTimeValue</th><th scope=col>duration</th></tr>\n",
       "\t<tr><th scope=col>&lt;dbl&gt;</th><th scope=col>&lt;dbl&gt;</th><th scope=col>&lt;dbl&gt;</th></tr>\n",
       "</thead>\n",
       "<tbody>\n",
       "\t<tr><td>201.3</td><td>145</td><td>56.3</td></tr>\n",
       "</tbody>\n",
       "</table>\n"
      ],
      "text/latex": [
       "A data.frame: 1 × 3\n",
       "\\begin{tabular}{lll}\n",
       " begTimeValue & endTimeValue & duration\\\\\n",
       " <dbl> & <dbl> & <dbl>\\\\\n",
       "\\hline\n",
       "\t 201.3 & 145 & 56.3\\\\\n",
       "\\end{tabular}\n"
      ],
      "text/markdown": [
       "\n",
       "A data.frame: 1 × 3\n",
       "\n",
       "| begTimeValue &lt;dbl&gt; | endTimeValue &lt;dbl&gt; | duration &lt;dbl&gt; |\n",
       "|---|---|---|\n",
       "| 201.3 | 145 | 56.3 |\n",
       "\n"
      ],
      "text/plain": [
       "  begTimeValue endTimeValue duration\n",
       "1 201.3        145          56.3    "
      ]
     },
     "metadata": {},
     "output_type": "display_data"
    }
   ],
   "source": [
    "# run the query  \n",
    "res = SPARQL(endpoint, q)$results\n",
    "  \n",
    "# calculate the druation\n",
    "res$duration = abs(res[[1]]-res[[2]])\n",
    "  \n",
    "return(res)"
   ]
  },
  {
   "cell_type": "code",
   "execution_count": null,
   "metadata": {},
   "outputs": [],
   "source": []
  }
 ],
 "metadata": {
  "kernelspec": {
   "display_name": "R",
   "language": "R",
   "name": "ir"
  },
  "language_info": {
   "codemirror_mode": "r",
   "file_extension": ".r",
   "mimetype": "text/x-r-source",
   "name": "R",
   "pygments_lexer": "r",
   "version": "3.6.0"
  }
 },
 "nbformat": 4,
 "nbformat_minor": 4
}
