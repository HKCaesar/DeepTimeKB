{
 "cells": [
  {
   "cell_type": "code",
   "execution_count": 3,
   "metadata": {},
   "outputs": [
    {
     "name": "stderr",
     "output_type": "stream",
     "text": [
      "Installing package into ‘/nethome/max/.R-libs’\n",
      "(as ‘lib’ is unspecified)\n",
      "\n",
      "Loading required package: XML\n",
      "\n",
      "Loading required package: RCurl\n",
      "\n"
     ]
    }
   ],
   "source": [
    "# This notebook will return the latest scheme ID of the golobal geo time scale in the iscallnew graph in a triple store\n",
    "\n", 
    "install.packages(\"SPARQL\")\n",
    "library(SPARQL)"
   ]
  },
  {
   "cell_type": "code",
   "execution_count": 4,
   "metadata": {},
   "outputs": [],
   "source": [
    "# set up end point and prefix\n",
    "endpoint = \"http://virtuoso.nkn.uidaho.edu:8890/sparql/\"\n",
    "  \n",
    "# attach SPARQL querry prefix. Note: the graph for our study should be updated\n",
    "sparql_prefix = \" \n",
    "                prefix dc: <http://purl.org/dc/elements/1.1/>\n",
    "                prefix gts: <http://resource.geosciml.org/ontology/timescale/gts#>\n",
    "                prefix skos: <http://www.w3.org/2004/02/skos/core#>\n",
    "                prefix time: <http://www.w3.org/2006/time#>\n",
    "                prefix ts: <http://resource.geosciml.org/vocabulary/timescale/> \n",
    "                prefix isc: <http://resource.geosciml.org/classifier/ics/ischart/> \n",
    "        \""
   ]
  },
  {
   "cell_type": "code",
   "execution_count": 19,
   "metadata": {},
   "outputs": [],
   "source": [
    "# the query code\n",
    " \n",
    "q = paste0(\n",
    "              sparql_prefix, \n",
    "                  '\n",
    "                   SELECT DISTINCT ?schURI \n",
    "                   WHERE\n",
    "                   {\n",
    "                     GRAPH <http://deeptimekb.org/iscallnew> \n",
    "                     {\n",
    "                        ?schURI a skos:ConceptScheme ;\n",
    "                                rdfs:label ?lbl .\n",
    "                        FILTER regex(?lbl, \"International\", \"i\")\n",
    "                     }      \n",
    "                   }\n",
    "                   ORDER BY DESC (?schURI)\n",
    "                   LIMIT 1\n",
    "                  '\n",
    "              )"
   ]
  },
  {
   "cell_type": "code",
   "execution_count": 20,
   "metadata": {
    "scrolled": false
   },
   "outputs": [
    {
     "data": {
      "text/html": [
       "<table>\n",
       "<caption>A data.frame: 1 × 1</caption>\n",
       "<thead>\n",
       "\t<tr><th scope=col>schURI</th></tr>\n",
       "\t<tr><th scope=col>&lt;chr&gt;</th></tr>\n",
       "</thead>\n",
       "<tbody>\n",
       "\t<tr><td>&lt;http://resource.geosciml.org/vocabulary/timescale/isc2018-08&gt;</td></tr>\n",
       "</tbody>\n",
       "</table>\n"
      ],
      "text/latex": [
       "A data.frame: 1 × 1\n",
       "\\begin{tabular}{l}\n",
       " schURI\\\\\n",
       " <chr>\\\\\n",
       "\\hline\n",
       "\t <http://resource.geosciml.org/vocabulary/timescale/isc2018-08>\\\\\n",
       "\\end{tabular}\n"
      ],
      "text/markdown": [
       "\n",
       "A data.frame: 1 × 1\n",
       "\n",
       "| schURI &lt;chr&gt; |\n",
       "|---|\n",
       "| &lt;http://resource.geosciml.org/vocabulary/timescale/isc2018-08&gt; |\n",
       "\n"
      ],
      "text/plain": [
       "  schURI                                                        \n",
       "1 <http://resource.geosciml.org/vocabulary/timescale/isc2018-08>"
      ]
     },
     "metadata": {},
     "output_type": "display_data"
    }
   ],
   "source": [
    "# run the query  \n",
    "res = SPARQL(endpoint, q)$results\n",
    "  \n",
    "return(res)"
   ]
  },
  {
   "cell_type": "code",
   "execution_count": null,
   "metadata": {},
   "outputs": [],
   "source": []
  }
 ],
 "metadata": {
  "kernelspec": {
   "display_name": "R",
   "language": "R",
   "name": "ir"
  },
  "language_info": {
   "codemirror_mode": "r",
   "file_extension": ".r",
   "mimetype": "text/x-r-source",
   "name": "R",
   "pygments_lexer": "r",
   "version": "3.6.0"
  }
 },
 "nbformat": 4,
 "nbformat_minor": 4
}
