{
 "cells": [
  {
   "cell_type": "code",
   "execution_count": 2,
   "metadata": {},
   "outputs": [
    {
     "name": "stderr",
     "output_type": "stream",
     "text": [
      "Installing package into ‘/nethome/max/.R-libs’\n",
      "(as ‘lib’ is unspecified)\n",
      "\n",
      "Loading required package: XML\n",
      "\n",
      "Loading required package: RCurl\n",
      "\n"
     ]
    }
   ],
   "source": [
    "# This notebook will return all global geo time scale scheme names in the iscallnew graph in a triple store\n",
    "\n",
    "install.packages(\"SPARQL\")\n",
    "library(SPARQL)"
   ]
  },
  {
   "cell_type": "code",
   "execution_count": 3,
   "metadata": {},
   "outputs": [],
   "source": [
    "# set up end point and prefix\n",
    "endpoint = \"http://virtuoso.nkn.uidaho.edu:8890/sparql/\"\n",
    "  \n",
    "# attach SPARQL querry prefix. Note: the graph for our study should be updated\n",
    "sparql_prefix = \" \n",
    "                prefix dc: <http://purl.org/dc/elements/1.1/>\n",
    "                prefix gts: <http://resource.geosciml.org/ontology/timescale/gts#>\n",
    "                prefix skos: <http://www.w3.org/2004/02/skos/core#>\n",
    "                prefix time: <http://www.w3.org/2006/time#>\n",
    "                prefix ts: <http://resource.geosciml.org/vocabulary/timescale/> \n",
    "                prefix isc: <http://resource.geosciml.org/classifier/ics/ischart/> \n",
    "        \""
   ]
  },
  {
   "cell_type": "code",
   "execution_count": 6,
   "metadata": {},
   "outputs": [],
   "source": [
    "# the query code\n",
    " \n",
    "q = paste0(\n",
    "              sparql_prefix, \n",
    "                  '\n",
    "                   SELECT DISTINCT ?schURI str(?lbl)\n",
    "                   WHERE\n",
    "                   {\n",
    "                     GRAPH <http://deeptimekb.org/iscallnew> \n",
    "                     {\n",
    "                        ?schURI a skos:ConceptScheme ;\n",
    "                                rdfs:label ?lbl .\n",
    "                        FILTER regex(?lbl, \"International\", \"i\")\n",
    "                     }      \n",
    "                   }\n",
    "                   ORDER BY DESC (?schURI)\n",
    "                  '\n",
    "              )"
   ]
  },
  {
   "cell_type": "code",
   "execution_count": 7,
   "metadata": {
    "scrolled": false
   },
   "outputs": [
    {
     "data": {
      "text/html": [
       "<table>\n",
       "<caption>A data.frame: 16 × 2</caption>\n",
       "<thead>\n",
       "\t<tr><th scope=col>schURI</th><th scope=col>callret.1</th></tr>\n",
       "\t<tr><th scope=col>&lt;chr&gt;</th><th scope=col>&lt;chr&gt;</th></tr>\n",
       "</thead>\n",
       "<tbody>\n",
       "\t<tr><td>&lt;http://resource.geosciml.org/vocabulary/timescale/isc2018-08&gt;</td><td>International Chronostratigraphic Chart (2018)</td></tr>\n",
       "\t<tr><td>&lt;http://resource.geosciml.org/vocabulary/timescale/isc2018-07&gt;</td><td>International Chronostratigraphic Chart (2018)</td></tr>\n",
       "\t<tr><td>&lt;http://resource.geosciml.org/vocabulary/timescale/isc2017-02&gt;</td><td>International Chronostratigraphic Chart (2017)</td></tr>\n",
       "\t<tr><td>&lt;http://resource.geosciml.org/vocabulary/timescale/isc2016-10&gt;</td><td>International Chronostratigraphic Chart (2016)</td></tr>\n",
       "\t<tr><td>&lt;http://resource.geosciml.org/vocabulary/timescale/isc2016-04&gt;</td><td>International Chronostratigraphic Chart (2016)</td></tr>\n",
       "\t<tr><td>&lt;http://resource.geosciml.org/vocabulary/timescale/isc2015-01&gt;</td><td>International Chronostratigraphic Chart (2015)</td></tr>\n",
       "\t<tr><td>&lt;http://resource.geosciml.org/vocabulary/timescale/isc2014-10&gt;</td><td>International Chronostratigraphic Chart (2014)</td></tr>\n",
       "\t<tr><td>&lt;http://resource.geosciml.org/vocabulary/timescale/isc2014-02&gt;</td><td>International Chronostratigraphic Chart (2014)</td></tr>\n",
       "\t<tr><td>&lt;http://resource.geosciml.org/vocabulary/timescale/isc2013-01&gt;</td><td>International Chronostratigraphic Chart (2013)</td></tr>\n",
       "\t<tr><td>&lt;http://resource.geosciml.org/vocabulary/timescale/isc2012-08&gt;</td><td>International Chronostratigraphic Chart (2012)</td></tr>\n",
       "\t<tr><td>&lt;http://resource.geosciml.org/vocabulary/timescale/isc2010-09&gt;</td><td>International Chronostratigraphic Chart (2010)</td></tr>\n",
       "\t<tr><td>&lt;http://resource.geosciml.org/vocabulary/timescale/isc2009-08&gt;</td><td>International Chronostratigraphic Chart (2009)</td></tr>\n",
       "\t<tr><td>&lt;http://resource.geosciml.org/vocabulary/timescale/isc2008-08&gt;</td><td>International Chronostratigraphic Chart (2008)</td></tr>\n",
       "\t<tr><td>&lt;http://resource.geosciml.org/vocabulary/timescale/isc2006-04&gt;</td><td>International Chronostratigraphic Chart (2006)</td></tr>\n",
       "\t<tr><td>&lt;http://resource.geosciml.org/vocabulary/timescale/isc2005-12&gt;</td><td>International Chronostratigraphic Chart (2005)</td></tr>\n",
       "\t<tr><td>&lt;http://resource.geosciml.org/vocabulary/timescale/isc2004-04&gt;</td><td>International Chronostratigraphic Chart (2004)</td></tr>\n",
       "</tbody>\n",
       "</table>\n"
      ],
      "text/latex": [
       "A data.frame: 16 × 2\n",
       "\\begin{tabular}{ll}\n",
       " schURI & callret.1\\\\\n",
       " <chr> & <chr>\\\\\n",
       "\\hline\n",
       "\t <http://resource.geosciml.org/vocabulary/timescale/isc2018-08> & International Chronostratigraphic Chart (2018)\\\\\n",
       "\t <http://resource.geosciml.org/vocabulary/timescale/isc2018-07> & International Chronostratigraphic Chart (2018)\\\\\n",
       "\t <http://resource.geosciml.org/vocabulary/timescale/isc2017-02> & International Chronostratigraphic Chart (2017)\\\\\n",
       "\t <http://resource.geosciml.org/vocabulary/timescale/isc2016-10> & International Chronostratigraphic Chart (2016)\\\\\n",
       "\t <http://resource.geosciml.org/vocabulary/timescale/isc2016-04> & International Chronostratigraphic Chart (2016)\\\\\n",
       "\t <http://resource.geosciml.org/vocabulary/timescale/isc2015-01> & International Chronostratigraphic Chart (2015)\\\\\n",
       "\t <http://resource.geosciml.org/vocabulary/timescale/isc2014-10> & International Chronostratigraphic Chart (2014)\\\\\n",
       "\t <http://resource.geosciml.org/vocabulary/timescale/isc2014-02> & International Chronostratigraphic Chart (2014)\\\\\n",
       "\t <http://resource.geosciml.org/vocabulary/timescale/isc2013-01> & International Chronostratigraphic Chart (2013)\\\\\n",
       "\t <http://resource.geosciml.org/vocabulary/timescale/isc2012-08> & International Chronostratigraphic Chart (2012)\\\\\n",
       "\t <http://resource.geosciml.org/vocabulary/timescale/isc2010-09> & International Chronostratigraphic Chart (2010)\\\\\n",
       "\t <http://resource.geosciml.org/vocabulary/timescale/isc2009-08> & International Chronostratigraphic Chart (2009)\\\\\n",
       "\t <http://resource.geosciml.org/vocabulary/timescale/isc2008-08> & International Chronostratigraphic Chart (2008)\\\\\n",
       "\t <http://resource.geosciml.org/vocabulary/timescale/isc2006-04> & International Chronostratigraphic Chart (2006)\\\\\n",
       "\t <http://resource.geosciml.org/vocabulary/timescale/isc2005-12> & International Chronostratigraphic Chart (2005)\\\\\n",
       "\t <http://resource.geosciml.org/vocabulary/timescale/isc2004-04> & International Chronostratigraphic Chart (2004)\\\\\n",
       "\\end{tabular}\n"
      ],
      "text/markdown": [
       "\n",
       "A data.frame: 16 × 2\n",
       "\n",
       "| schURI &lt;chr&gt; | callret.1 &lt;chr&gt; |\n",
       "|---|---|\n",
       "| &lt;http://resource.geosciml.org/vocabulary/timescale/isc2018-08&gt; | International Chronostratigraphic Chart (2018) |\n",
       "| &lt;http://resource.geosciml.org/vocabulary/timescale/isc2018-07&gt; | International Chronostratigraphic Chart (2018) |\n",
       "| &lt;http://resource.geosciml.org/vocabulary/timescale/isc2017-02&gt; | International Chronostratigraphic Chart (2017) |\n",
       "| &lt;http://resource.geosciml.org/vocabulary/timescale/isc2016-10&gt; | International Chronostratigraphic Chart (2016) |\n",
       "| &lt;http://resource.geosciml.org/vocabulary/timescale/isc2016-04&gt; | International Chronostratigraphic Chart (2016) |\n",
       "| &lt;http://resource.geosciml.org/vocabulary/timescale/isc2015-01&gt; | International Chronostratigraphic Chart (2015) |\n",
       "| &lt;http://resource.geosciml.org/vocabulary/timescale/isc2014-10&gt; | International Chronostratigraphic Chart (2014) |\n",
       "| &lt;http://resource.geosciml.org/vocabulary/timescale/isc2014-02&gt; | International Chronostratigraphic Chart (2014) |\n",
       "| &lt;http://resource.geosciml.org/vocabulary/timescale/isc2013-01&gt; | International Chronostratigraphic Chart (2013) |\n",
       "| &lt;http://resource.geosciml.org/vocabulary/timescale/isc2012-08&gt; | International Chronostratigraphic Chart (2012) |\n",
       "| &lt;http://resource.geosciml.org/vocabulary/timescale/isc2010-09&gt; | International Chronostratigraphic Chart (2010) |\n",
       "| &lt;http://resource.geosciml.org/vocabulary/timescale/isc2009-08&gt; | International Chronostratigraphic Chart (2009) |\n",
       "| &lt;http://resource.geosciml.org/vocabulary/timescale/isc2008-08&gt; | International Chronostratigraphic Chart (2008) |\n",
       "| &lt;http://resource.geosciml.org/vocabulary/timescale/isc2006-04&gt; | International Chronostratigraphic Chart (2006) |\n",
       "| &lt;http://resource.geosciml.org/vocabulary/timescale/isc2005-12&gt; | International Chronostratigraphic Chart (2005) |\n",
       "| &lt;http://resource.geosciml.org/vocabulary/timescale/isc2004-04&gt; | International Chronostratigraphic Chart (2004) |\n",
       "\n"
      ],
      "text/plain": [
       "   schURI                                                        \n",
       "1  <http://resource.geosciml.org/vocabulary/timescale/isc2018-08>\n",
       "2  <http://resource.geosciml.org/vocabulary/timescale/isc2018-07>\n",
       "3  <http://resource.geosciml.org/vocabulary/timescale/isc2017-02>\n",
       "4  <http://resource.geosciml.org/vocabulary/timescale/isc2016-10>\n",
       "5  <http://resource.geosciml.org/vocabulary/timescale/isc2016-04>\n",
       "6  <http://resource.geosciml.org/vocabulary/timescale/isc2015-01>\n",
       "7  <http://resource.geosciml.org/vocabulary/timescale/isc2014-10>\n",
       "8  <http://resource.geosciml.org/vocabulary/timescale/isc2014-02>\n",
       "9  <http://resource.geosciml.org/vocabulary/timescale/isc2013-01>\n",
       "10 <http://resource.geosciml.org/vocabulary/timescale/isc2012-08>\n",
       "11 <http://resource.geosciml.org/vocabulary/timescale/isc2010-09>\n",
       "12 <http://resource.geosciml.org/vocabulary/timescale/isc2009-08>\n",
       "13 <http://resource.geosciml.org/vocabulary/timescale/isc2008-08>\n",
       "14 <http://resource.geosciml.org/vocabulary/timescale/isc2006-04>\n",
       "15 <http://resource.geosciml.org/vocabulary/timescale/isc2005-12>\n",
       "16 <http://resource.geosciml.org/vocabulary/timescale/isc2004-04>\n",
       "   callret.1                                     \n",
       "1  International Chronostratigraphic Chart (2018)\n",
       "2  International Chronostratigraphic Chart (2018)\n",
       "3  International Chronostratigraphic Chart (2017)\n",
       "4  International Chronostratigraphic Chart (2016)\n",
       "5  International Chronostratigraphic Chart (2016)\n",
       "6  International Chronostratigraphic Chart (2015)\n",
       "7  International Chronostratigraphic Chart (2014)\n",
       "8  International Chronostratigraphic Chart (2014)\n",
       "9  International Chronostratigraphic Chart (2013)\n",
       "10 International Chronostratigraphic Chart (2012)\n",
       "11 International Chronostratigraphic Chart (2010)\n",
       "12 International Chronostratigraphic Chart (2009)\n",
       "13 International Chronostratigraphic Chart (2008)\n",
       "14 International Chronostratigraphic Chart (2006)\n",
       "15 International Chronostratigraphic Chart (2005)\n",
       "16 International Chronostratigraphic Chart (2004)"
      ]
     },
     "metadata": {},
     "output_type": "display_data"
    }
   ],
   "source": [
    "# run the query  \n",
    "res = SPARQL(endpoint, q)$results\n",
    "  \n",
    "return(res)"
   ]
  },
  {
   "cell_type": "code",
   "execution_count": null,
   "metadata": {},
   "outputs": [],
   "source": []
  }
 ],
 "metadata": {
  "kernelspec": {
   "display_name": "R",
   "language": "R",
   "name": "ir"
  },
  "language_info": {
   "codemirror_mode": "r",
   "file_extension": ".r",
   "mimetype": "text/x-r-source",
   "name": "R",
   "pygments_lexer": "r",
   "version": "3.6.0"
  }
 },
 "nbformat": 4,
 "nbformat_minor": 4
}
