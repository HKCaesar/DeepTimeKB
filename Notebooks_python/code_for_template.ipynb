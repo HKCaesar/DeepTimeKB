{
 "cells": [
  {
   "cell_type": "code",
   "execution_count": null,
   "metadata": {},
   "outputs": [],
   "source": [
    "import platform"
   ]
  },
  {
   "cell_type": "code",
   "execution_count": null,
   "metadata": {},
   "outputs": [],
   "source": [
    "# set working dir here\n",
    "working_directory=r\"\"\n",
    "\n",
    "\n",
    "if platform.system()=='Windows':\n",
    "    backslash='\\\\'\n",
    "else:backslash='/'"
   ]
  },
  {
   "cell_type": "code",
   "execution_count": null,
   "metadata": {},
   "outputs": [],
   "source": [
    "def input_template(REPLACE):\n",
    "    newline='\\n  '\n",
    "    template = f\"\"\"{REPLACE[0]}:{REPLACE[1]}\n",
    "  rdf:type gts:{REPLACE[2]} ;\n",
    "  rdf:type gts:GeochronologicEra ;\n",
    "  rdf:type skos:Concept ;\n",
    "  rdf:type time:ProperInterval ;\n",
    "  rdfs:label \"{REPLACE[1]} Age\"@en ;{newline+'skos:broader '+REPLACE[3]+':'+REPLACE[4]+' ;' if REPLACE[4]!=\"None\" else ''}{newline+'skos:broaderTransitive isc:'+REPLACE[5]+' ;' if replace[5]!=\"None\" else ''}{newline+'skos:broaderTransitive isc:'+REPLACE[6]+' ;' if replace[6]!=\"None\" else ''}{newline+'skos:broaderTransitive isc:Phanerozoic ;' if replace[2]!=\"Epoch\" else ''}\n",
    "  skos:inScheme ts:{REPLACE[0]}2019 ;\n",
    "  time:hasBeginning  {REPLACE[0]}:Base{REPLACE[1]} ;\n",
    "  time:hasEnd {REPLACE[0]}:{REPLACE[7]} ;\n",
    ".\n",
    "\n",
    "{REPLACE[0]}:Base{REPLACE[1]}\n",
    "  rdf:type gts:GeochronologicBoundary ;\n",
    "  rdf:type thors:EraBoundary ;\n",
    "  rdf:type skos:Concept ;\n",
    "  rdf:type time:Instant ;\n",
    "  rdfs:label \"Base of {REPLACE[1]}\"@en ;\n",
    "  skos:prefLabel \"Base of {REPLACE[1]}\"@en ;\n",
    "  time:inTemporalPosition {REPLACE[0]}:Base{REPLACE[1]}Time ;\n",
    ".\n",
    "\n",
    "{REPLACE[0]}:Base{REPLACE[1]}Time\n",
    "  rdf:type time:TimePosition ;\n",
    "  time:hasTRS <http://resource.geosciml.org/classifier/cgi/geologicage/ma> ;\n",
    "  time:numericPosition \"{REPLACE[8]}\"^^xsd:decimal ;\n",
    ".\n",
    "\"\"\"\n",
    "    if REPLACE[7][:4]!=\"Base\":\n",
    "        template+=f\"\"\"\n",
    "{REPLACE[0]}:Top{REPLACE[1]}\n",
    "  rdf:type gts:GeochronologicBoundary ;\n",
    "  rdf:type thors:EraBoundary ;\n",
    "  rdf:type skos:Concept ;\n",
    "  rdf:type time:Instant ;\n",
    "  rdfs:label \"Top of {REPLACE[1]}\"@en ;\n",
    "  skos:prefLabel \"Top of {REPLACE[1]}\"@en ;\n",
    "  time:inTemporalPosition {REPLACE[0]}:Top{REPLACE[1]}Time ;\n",
    ".\n",
    "\n",
    "{REPLACE[0]}:Top{REPLACE[1]}Time\n",
    "  rdf:type time:TimePosition ;\n",
    "  time:hasTRS <http://resource.geosciml.org/classifier/cgi/geologicage/ma> ;\n",
    "  time:numericPosition \"{REPLACE[9]}\"^^xsd:decimal ;\n",
    ".\n",
    "\"\"\"\n",
    "    else:template+='\\n'\n",
    "    return template"
   ]
  },
  {
   "cell_type": "code",
   "execution_count": null,
   "metadata": {},
   "outputs": [],
   "source": [
    "if __name__ == '__main__':\n",
    "    result=''\n",
    "    with open(f\"{working_directory}{backslash}result.ttl\",'w') as f2:\n",
    "        with open(f\"{working_directory}{backslash}R5.csv\",'r') as f:\n",
    "            for line_index,line in enumerate(f):\n",
    "                replace=['']*10\n",
    "                if line_index==0:continue\n",
    "                line=line.split(',')\n",
    "                replace[0]=line[1]\n",
    "                replace[1]=line[2]\n",
    "                replace[2]=line[3]\n",
    "                if line[6]=='Y':\n",
    "                    replace[3]=line[1]\n",
    "                else:\n",
    "                    replace[3]=\"isc\"\n",
    "                replace[4]=line[7]\n",
    "                replace[5]=line[8]\n",
    "                replace[6] = line[9]\n",
    "                if line_index==1 or line[4]!=previous_line[5]:replace[7]=\"Top\"+line[2]\n",
    "                else:\n",
    "                    replace[7]=\"Base\"+previous_line[2]\n",
    "                replace[8]=line[5]\n",
    "                replace[9]=line[4]\n",
    "                previous_line=line\n",
    "                f2.write(input_template(replace))"
   ]
  }
 ],
 "metadata": {
  "anaconda-cloud": {},
  "kernelspec": {
   "display_name": "Python 3",
   "language": "python",
   "name": "python3"
  },
  "language_info": {
   "codemirror_mode": {
    "name": "ipython",
    "version": 3
   },
   "file_extension": ".py",
   "mimetype": "text/x-python",
   "name": "python",
   "nbconvert_exporter": "python",
   "pygments_lexer": "ipython3",
   "version": "3.7.3"
  }
 },
 "nbformat": 4,
 "nbformat_minor": 4
}
