{
 "cells": [
  {
   "cell_type": "code",
   "execution_count": null,
   "metadata": {},
   "outputs": [],
   "source": [
    "import sparql\n",
    "from tabulate import tabulate"
   ]
  },
  {
   "cell_type": "code",
   "execution_count": 1,
   "metadata": {},
   "outputs": [],
   "source": [
    "# set up end point and prefix\n",
    "endpoint = \"http://virtuoso.nkn.uidaho.edu:8890/sparql/\"\n",
    "\n",
    "# attach SPARQL querry prefix. Note: the graph for our study should be updated\n",
    "sparql_prefix = \"\"\" \n",
    "                prefix dc: <http://purl.org/dc/elements/1.1/>\n",
    "                prefix gts: <http://resource.geosciml.org/ontology/timescale/gts#>\n",
    "                prefix skos: <http://www.w3.org/2004/02/skos/core#>\n",
    "                prefix time: <http://www.w3.org/2006/time#>\n",
    "                prefix ts: <http://resource.geosciml.org/vocabulary/timescale/> \n",
    "                prefix isc: <http://resource.geosciml.org/classifier/ics/ischart/> \n",
    "        \"\"\""
   ]
  },
  {
   "cell_type": "code",
   "execution_count": 2,
   "metadata": {},
   "outputs": [
    {
     "name": "stdout",
     "output_type": "stream",
     "text": [
      "['http://resource.geosciml.org/vocabulary/timescale/isc2018-08', 'International Chronostratigraphic Chart (2018)']\n"
     ]
    }
   ],
   "source": [
    "sparql_prefix1 =sparql_prefix + \"\"\"\n",
    "                   SELECT DISTINCT ?schURI ?lbl\n",
    "                   WHERE\n",
    "                   {\n",
    "                     GRAPH <http://deeptimekb.org/iscallnew> \n",
    "                     {\n",
    "                        ?schURI a skos:ConceptScheme ;\n",
    "                                rdfs:label ?lbl .\n",
    "                        FILTER regex(?lbl, \"International\", \"i\")\n",
    "                     }      \n",
    "                   }\n",
    "                   ORDER BY DESC (?schURI)\n",
    "                   LIMIT 1\n",
    "                  \"\"\"\n",
    "\n",
    "result = sparql.query(endpoint, sparql_prefix1)\n",
    "rows = [sparql.unpack_row(row) for row in result]\n",
    "rows=rows[0]\n",
    "print(rows)"
   ]
  },
  {
   "cell_type": "code",
   "execution_count": 3,
   "metadata": {},
   "outputs": [],
   "source": [
    "sparql_prefix+=f\"\"\"\n",
    "                   SELECT   DISTINCT ?begTimeValue ?endTimeValue\n",
    "                   WHERE\n",
    "                   {'{'}\n",
    "                     GRAPH <http://deeptimekb.org/iscallnew>\n",
    "                     {'{'}\n",
    "                          {'{'} #for the pattern of local vocabulary\n",
    "                                 ?tconcept  a gts:GeochronologicEra ;\n",
    "                                                 rdfs:label ?label .\n",
    "                                 FILTER (lang(?label) = \"en\")\n",
    "                                 FILTER strstarts(?label, \"Jurassic\").\n",
    "                                 ?tconcept time:hasBeginning ?beg ;\n",
    "                                 time:hasEnd ?end .\n",
    "                                 ?beg time:inTemporalPosition ?begTime .\n",
    "                                 ?end time:inTemporalPosition ?endTime .\n",
    "                                 ?begTime time:numericPosition ?begTimeValue .\n",
    "                                 ?endTime time:numericPosition ?endTimeValue .\n",
    "                          {'}'}\n",
    "                                                 UNION\n",
    "                          {'{'} #for the pattern of local vocabulary \n",
    "                             ?tconcept a gts:GeochronologicEra ;  \n",
    "                                       rdfs:label ?label .\n",
    "                             FILTER (lang(?label) = \"en\")\n",
    "                             FILTER strstarts(?label, \"Jurassic\").\n",
    "                             ?tconcept dc:description\n",
    "                             [\n",
    "                                time:hasBeginning ?beg ;\n",
    "                                time:hasEnd ?end ;\n",
    "                                skos:inScheme  <{rows[0]}>\n",
    "                             ].\n",
    "                             \n",
    "                          ?beg time:inTemporalPosition ?begTime .\n",
    "                          ?end time:inTemporalPosition ?endTime .\n",
    "                          \n",
    "                          ?begTime dc:description\n",
    "                              [\n",
    "                                 time:numericPosition ?begTimeValue ;\n",
    "                                 skos:inScheme  <{rows[0]}>\n",
    "                               ].\n",
    "                          ?endTime dc:description\n",
    "                              [\n",
    "                                 time:numericPosition ?endTimeValue ;\n",
    "                                 skos:inScheme  <{rows[0]}>\n",
    "                              ] .\n",
    "                             {'}'}\n",
    "                     {'}'}\n",
    "                   {'}'}\n",
    "                  \"\"\""
   ]
  },
  {
   "cell_type": "code",
   "execution_count": 4,
   "metadata": {},
   "outputs": [
    {
     "name": "stdout",
     "output_type": "stream",
     "text": [
      "  begTimeValue    endTimeValue    duration\n",
      "--------------  --------------  ----------\n",
      "         201.3             145        56.3\n"
     ]
    }
   ],
   "source": [
    "result = sparql.query(endpoint, sparql_prefix)\n",
    "rows = [sparql.unpack_row(row) for row in result]\n",
    "rows = [row + [abs(float(row[0])-float(row[1]))] for row in rows]\n",
    "print(tabulate(rows, result.variables+['duration']))"
   ]
  }
 ],
 "metadata": {
  "anaconda-cloud": {},
  "kernelspec": {
   "display_name": "Python 3",
   "language": "python",
   "name": "python3"
  },
  "language_info": {
   "codemirror_mode": {
    "name": "ipython",
    "version": 3
   },
   "file_extension": ".py",
   "mimetype": "text/x-python",
   "name": "python",
   "nbconvert_exporter": "python",
   "pygments_lexer": "ipython3",
   "version": "3.7.3"
  }
 },
 "nbformat": 4,
 "nbformat_minor": 4
}
