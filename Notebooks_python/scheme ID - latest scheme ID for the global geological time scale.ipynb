{
 "cells": [
  {
   "cell_type": "code",
   "execution_count": 1,
   "metadata": {},
   "outputs": [],
   "source": [
    "import sparql\n",
    "from tabulate import tabulate"
   ]
  },
  {
   "cell_type": "code",
   "execution_count": 2,
   "metadata": {},
   "outputs": [],
   "source": [
    "# set up end point and prefix\n",
    "endpoint = \"http://virtuoso.nkn.uidaho.edu:8890/sparql/\"\n",
    "\n",
    "# attach SPARQL querry prefix. Note: the graph for our study should be updated\n",
    "sparql_prefix = \"\"\" \n",
    "                prefix dc: <http://purl.org/dc/elements/1.1/>\n",
    "                prefix gts: <http://resource.geosciml.org/ontology/timescale/gts#>\n",
    "                prefix skos: <http://www.w3.org/2004/02/skos/core#>\n",
    "                prefix time: <http://www.w3.org/2006/time#>\n",
    "                prefix ts: <http://resource.geosciml.org/vocabulary/timescale/> \n",
    "                prefix isc: <http://resource.geosciml.org/classifier/ics/ischart/>\n",
    "        \"\"\""
   ]
  },
  {
   "cell_type": "code",
   "execution_count": 3,
   "metadata": {},
   "outputs": [],
   "source": [
    "sparql_prefix += \"\"\"\n",
    "                   SELECT DISTINCT ?schURI \n",
    "                   WHERE\n",
    "                   {\n",
    "                     GRAPH <http://deeptimekb.org/iscallnew> \n",
    "                     {\n",
    "                        ?schURI a skos:ConceptScheme ;\n",
    "                                rdfs:label ?lbl .\n",
    "                        FILTER regex(?lbl, \"International\", \"i\")\n",
    "                     }      \n",
    "                   }\n",
    "                   ORDER BY DESC (?schURI)\n",
    "                   LIMIT 1\n",
    "                  \"\"\""
   ]
  },
  {
   "cell_type": "code",
   "execution_count": 4,
   "metadata": {},
   "outputs": [
    {
     "name": "stdout",
     "output_type": "stream",
     "text": [
      "schURI\n",
      "------------------------------------------------------------\n",
      "http://resource.geosciml.org/vocabulary/timescale/isc2018-08\n"
     ]
    }
   ],
   "source": [
    "result = sparql.query(endpoint, sparql_prefix)\n",
    "rows = [sparql.unpack_row(row) for row in result]\n",
    "print(tabulate(rows, result.variables))"
   ]
  }
 ],
 "metadata": {
  "anaconda-cloud": {},
  "kernelspec": {
   "display_name": "Python 3",
   "language": "python",
   "name": "python3"
  },
  "language_info": {
   "codemirror_mode": {
    "name": "ipython",
    "version": 3
   },
   "file_extension": ".py",
   "mimetype": "text/x-python",
   "name": "python",
   "nbconvert_exporter": "python",
   "pygments_lexer": "ipython3",
   "version": "3.7.3"
  }
 },
 "nbformat": 4,
 "nbformat_minor": 4
}
