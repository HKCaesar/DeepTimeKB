{
 "cells": [
  {
   "cell_type": "code",
   "execution_count": 1,
   "metadata": {},
   "outputs": [],
   "source": [
    "import sparql\n",
    "from tabulate import tabulate"
   ]
  },
  {
   "cell_type": "code",
   "execution_count": 2,
   "metadata": {},
   "outputs": [],
   "source": [
    "# set up end point and prefix\n",
    "endpoint = \"http://virtuoso.nkn.uidaho.edu:8890/sparql/\"\n",
    "\n",
    "# attach SPARQL querry prefix. Note: the graph for our study should be updated\n",
    "sparql_prefix = \"\"\" \n",
    "                prefix dc: <http://purl.org/dc/elements/1.1/>\n",
    "                prefix gts: <http://resource.geosciml.org/ontology/timescale/gts#>\n",
    "                prefix skos: <http://www.w3.org/2004/02/skos/core#>\n",
    "                prefix time: <http://www.w3.org/2006/time#>\n",
    "                prefix ts: <http://resource.geosciml.org/vocabulary/timescale/> \n",
    "                prefix isc: <http://resource.geosciml.org/classifier/ics/ischart/> \n",
    "        \"\"\""
   ]
  },
  {
   "cell_type": "code",
   "execution_count": 3,
   "metadata": {},
   "outputs": [],
   "source": [
    "sparql_prefix += \"\"\"\n",
    "                   SELECT   DISTINCT  ?schURI  str(?lbl) AS ?schemeName\n",
    "                   WHERE\n",
    "                   {\n",
    "                     GRAPH <http://deeptimekb.org/iscallnew> \n",
    "                     {\n",
    "                        ?schURI a skos:ConceptScheme ;\n",
    "                             rdfs:label ?lbl .\n",
    "                     }      \n",
    "                   }\n",
    "                  \"\"\""
   ]
  },
  {
   "cell_type": "code",
   "execution_count": 4,
   "metadata": {},
   "outputs": [
    {
     "name": "stdout",
     "output_type": "stream",
     "text": [
      "schURI                                                        schemeName\n",
      "------------------------------------------------------------  ---------------------------------------------------------\n",
      "http://resource.geosciml.org/vocabulary/timescale/tsnc2019    Ontology for Geologic Timescale Elements in North China\n",
      "http://resource.geosciml.org/vocabulary/timescale/tssc2019    Ontology for Geologic Timescale Elements in South China\n",
      "http://resource.geosciml.org/vocabulary/timescale/tsnz2019    Ontology for Geologic Timescale Elements in New Zealand\n",
      "http://resource.geosciml.org/vocabulary/timescale/tsau2019    Ontology for Geologic Timescale Elements in Australia\n",
      "http://resource.geosciml.org/vocabulary/timescale/tsba2019    Ontology for Geologic Timescale Elements in Baltoscania\n",
      "http://resource.geosciml.org/vocabulary/timescale/tsbr2019    Ontology for Geologic Timescale Elements in Britain\n",
      "http://resource.geosciml.org/vocabulary/timescale/tsjp2019    Ontology for Geologic Timescale Elements in Japan\n",
      "http://resource.geosciml.org/vocabulary/timescale/tswe2019    Ontology for Geologic Timescale Elements in West Europe\n",
      "http://resource.geosciml.org/vocabulary/timescale/tsna2019    Ontology for Geologic Timescale Elements in North America\n",
      "http://resource.geosciml.org/vocabulary/timescale/isc2004-04  International Chronostratigraphic Chart (2004)\n",
      "http://resource.geosciml.org/vocabulary/timescale/isc2005-12  International Chronostratigraphic Chart (2005)\n",
      "http://resource.geosciml.org/vocabulary/timescale/isc2006-04  International Chronostratigraphic Chart (2006)\n",
      "http://resource.geosciml.org/vocabulary/timescale/isc2008-08  International Chronostratigraphic Chart (2008)\n",
      "http://resource.geosciml.org/vocabulary/timescale/isc2009-08  International Chronostratigraphic Chart (2009)\n",
      "http://resource.geosciml.org/vocabulary/timescale/isc2010-09  International Chronostratigraphic Chart (2010)\n",
      "http://resource.geosciml.org/vocabulary/timescale/isc2012-08  International Chronostratigraphic Chart (2012)\n",
      "http://resource.geosciml.org/vocabulary/timescale/isc2013-01  International Chronostratigraphic Chart (2013)\n",
      "http://resource.geosciml.org/vocabulary/timescale/isc2014-02  International Chronostratigraphic Chart (2014)\n",
      "http://resource.geosciml.org/vocabulary/timescale/isc2014-10  International Chronostratigraphic Chart (2014)\n",
      "http://resource.geosciml.org/vocabulary/timescale/isc2015-01  International Chronostratigraphic Chart (2015)\n",
      "http://resource.geosciml.org/vocabulary/timescale/isc2016-04  International Chronostratigraphic Chart (2016)\n",
      "http://resource.geosciml.org/vocabulary/timescale/isc2016-10  International Chronostratigraphic Chart (2016)\n",
      "http://resource.geosciml.org/vocabulary/timescale/isc2017-02  International Chronostratigraphic Chart (2017)\n",
      "http://resource.geosciml.org/vocabulary/timescale/isc2018-07  International Chronostratigraphic Chart (2018)\n",
      "http://resource.geosciml.org/vocabulary/timescale/isc2018-08  International Chronostratigraphic Chart (2018)\n"
     ]
    }
   ],
   "source": [
    "result = sparql.query(endpoint, sparql_prefix)\n",
    "rows = [sparql.unpack_row(row) for row in result]\n",
    "print(tabulate(rows, result.variables))"
   ]
  },
  {
   "cell_type": "code",
   "execution_count": null,
   "metadata": {},
   "outputs": [],
   "source": []
  }
 ],
 "metadata": {
  "anaconda-cloud": {},
  "kernelspec": {
   "display_name": "Python 3",
   "language": "python",
   "name": "python3"
  },
  "language_info": {
   "codemirror_mode": {
    "name": "ipython",
    "version": 3
   },
   "file_extension": ".py",
   "mimetype": "text/x-python",
   "name": "python",
   "nbconvert_exporter": "python",
   "pygments_lexer": "ipython3",
   "version": "3.7.3"
  }
 },
 "nbformat": 4,
 "nbformat_minor": 4
}
